{
  "nbformat": 4,
  "nbformat_minor": 0,
  "metadata": {
    "colab": {
      "provenance": [],
      "authorship_tag": "ABX9TyNsqSPeFKMhhiaUuL8cOAB6"
    },
    "kernelspec": {
      "name": "python3",
      "display_name": "Python 3"
    },
    "language_info": {
      "name": "python"
    }
  },
  "cells": [
    {
      "cell_type": "code",
      "source": [
        "authenticate_user = True\n",
        "\n",
        "card_no = 1234567890123456\n",
        "card_pin = 1234\n",
        "\n"
      ],
      "metadata": {
        "id": "wBGY3pK9CEcx"
      },
      "execution_count": 57,
      "outputs": []
    },
    {
      "cell_type": "code",
      "source": [
        "def authenticate_user(card_pin, card_no):\n",
        "\n",
        "    \"\"\"\n",
        "    Args:\n",
        "        card_no: The card number entered by the user\n",
        "        card_pin: The pin of the card\n",
        "\"\"\"\n",
        "\n",
        "\"\"\"\n",
        "    Return:\n",
        "        True if the user is authenticated, False otherwise\n",
        "    \"\"\""
      ],
      "metadata": {
        "colab": {
          "base_uri": "https://localhost:8080/",
          "height": 36
        },
        "id": "DbUFvHXrBJv6",
        "outputId": "60c36b8a-9951-486e-9d73-dda4337b3a15"
      },
      "execution_count": 50,
      "outputs": [
        {
          "output_type": "execute_result",
          "data": {
            "text/plain": [
              "'\\n    Return:\\n        True if the user is authenticated, False otherwise\\n    '"
            ],
            "application/vnd.google.colaboratory.intrinsic+json": {
              "type": "string"
            }
          },
          "metadata": {},
          "execution_count": 50
        }
      ]
    },
    {
      "cell_type": "code",
      "source": [
        "print(\"Welcome to Fidelity Bank\")"
      ],
      "metadata": {
        "colab": {
          "base_uri": "https://localhost:8080/"
        },
        "id": "kKqj5hh8FaWC",
        "outputId": "6b9863c5-bf53-42b9-c33e-bbb6c663efff"
      },
      "execution_count": 52,
      "outputs": [
        {
          "output_type": "stream",
          "name": "stdout",
          "text": [
            "Welcome to Fidelity Bank\n"
          ]
        }
      ]
    },
    {
      "cell_type": "code",
      "source": [
        "mastercard = input(\"Enter your card number: \")\n",
        "pin = input(\"Enter your pin: \")\n",
        "# name = print(\"Enter your name: \")\n",
        "card = {}\n",
        "card[\"name\"] = \"anthony\"\n",
        "\n",
        "card[\"anthony\"] = 1234567890123456\n",
        "card[\"password\"] = 1234\n",
        "if card[\"anthony\"] == 1234567890123456 and card[\"password\"] == 1234:\n",
        "    print(f'Authentication successful Welcome {card[\"name\"]}')\n",
        "\n",
        "else:\n",
        "    print(\"Authentication failed\")\n",
        "\n"
      ],
      "metadata": {
        "colab": {
          "base_uri": "https://localhost:8080/"
        },
        "id": "p4HvG36nMjcR",
        "outputId": "93118365-7ed7-4a27-9a55-4effcee49086"
      },
      "execution_count": 71,
      "outputs": [
        {
          "output_type": "stream",
          "name": "stdout",
          "text": [
            "Enter your card number: 1234567890123456\n",
            "Enter your pin: 1234\n",
            "Authentication successful Welcome anthony\n"
          ]
        }
      ]
    },
    {
      "cell_type": "code",
      "source": [
        "\n",
        "#select transaction options\n",
        "\n",
        "balance = 100000\n",
        "\n",
        "my_list = [\"1.Balance\", \"2.Withdrawal\",\"3.ATM_transfer\",\"4.Deposit\"]\n",
        "for item in my_list:\n",
        "    print(item)\n",
        "choice = input(\"Select transaction \")\n",
        "if choice == \"1\":\n",
        "    print(f\"your balance is ${balance}\")\n",
        "\n",
        "elif choice == \"2\":\n",
        "    print(\"Withdrawal\")\n",
        "    denominations = [\"1.50000\", \"2.10000\", \"3.5000\", \"4.1000\"]\n",
        "    for item in denominations:\n",
        "        print(item)\n",
        "    amount =int( input(\"Enter amount: \"))\n",
        "    if    amount == \"1\":\n",
        "      balance = balance - 50000\n",
        "    elif amount == \"2\":\n",
        "      balance = balance - 10000\n",
        "    elif amount == \"3\":\n",
        "      print( balance - 5000)\n",
        "      print(f\"your balance is ${balance - 5000}\")\n",
        "    elif amount == \"4\":\n",
        "      balance = balance - 1000\n",
        "      print(f\"your balance is ${balance}\")\n",
        "\n",
        "\n",
        "elif choice == \"3\":\n",
        "    print(\"ATM_transfer\")\n",
        "    card_no = input(\"Enter your card number: \")\n",
        "    pin = input(\"Enter your pin: \")\n",
        "    if card_no == \"1234567890123456\" and pin == \"1234\":\n",
        "        print(\"Authentication successful\")\n",
        "        bank = [\"1.UBA\", \"2.GTBANK\", \"3.UNION BANK\", \"4.FIRST BANK\"]\n",
        "        for item in bank:\n",
        "          print(item)\n",
        "        bank = input(\"Select bank: \")\n",
        "        account = input(\"Enter account number: \")\n",
        "        amount = int(input(\"Enter amount: \"))\n",
        "        if bank == \"1\":\n",
        "          balance = balance - amount\n",
        "          print(f\"your balance is ${balance}\")\n",
        "\n",
        "    else:\n",
        "        print(\"Authentication failed\")\n",
        "\n",
        "\n",
        "\n",
        "elif choice == \"4\":\n",
        "    print(\"Deposit\")\n",
        "    card_no = input(\"Enter your card number: \")\n",
        "    pin = input(\"Enter your pin: \")\n",
        "    if card_no == \"1234567890123456\" and pin == \"1234\":\n",
        "        print(\"Authentication successful\")\n",
        "        bank = [\"1.UBA\", \"2.GTBANK\", \"3.UNION BANK\", \"4.FIRST BANK\"]\n",
        "        for item in bank:\n",
        "          print(item)\n",
        "        bank = input(\"Select bank: \")\n",
        "        account = input(\"Enter account number: \")\n",
        "        amount = int(input(\"Enter amount: \"))\n",
        "        if bank == \"1\":\n",
        "          balance = balance - amount\n",
        "          print(f\"your balance is ${balance}\")\n",
        "          print(DO YOU WANT TO PERFORM ANOTHER TRANSACTION)\n",
        "\n",
        "    else:\n",
        "        print(\"Authentication failed\")\n",
        "\n",
        "\n",
        "else:\n",
        "    print(\"Invalid choice\")\n",
        "\n",
        "\n",
        "\n"
      ],
      "metadata": {
        "colab": {
          "base_uri": "https://localhost:8080/",
          "height": 106
        },
        "id": "fL-4XQcZMiHy",
        "outputId": "d52c9256-ad9a-4bb9-d1a8-35ba84206625"
      },
      "execution_count": 136,
      "outputs": [
        {
          "output_type": "error",
          "ename": "SyntaxError",
          "evalue": "invalid syntax. Perhaps you forgot a comma? (<ipython-input-136-29957919ca0c>, line 66)",
          "traceback": [
            "\u001b[0;36m  File \u001b[0;32m\"<ipython-input-136-29957919ca0c>\"\u001b[0;36m, line \u001b[0;32m66\u001b[0m\n\u001b[0;31m    print(DO YOU WANT TO PERFORM ANOTHER TRANSACTION)\u001b[0m\n\u001b[0m          ^\u001b[0m\n\u001b[0;31mSyntaxError\u001b[0m\u001b[0;31m:\u001b[0m invalid syntax. Perhaps you forgot a comma?\n"
          ]
        }
      ]
    },
    {
      "cell_type": "code",
      "source": [
        "input(\"Enter your card number \")\n",
        "input(\" Enter your Password \")\n",
        "if authenticate_user(card_pin, card_no):\n",
        "    print(\"Authentication successful\")\n",
        "elif card_no == 1234567890123456 and card_pin == 1234:\n",
        "  print(\"You may procceed\")\n",
        "else:\n",
        "    print(\"Authentication failed\")"
      ],
      "metadata": {
        "colab": {
          "base_uri": "https://localhost:8080/",
          "height": 245
        },
        "id": "TifoTg92CC3J",
        "outputId": "2e71b4ef-2ed2-4ce5-e87d-86e1746ef489"
      },
      "execution_count": 58,
      "outputs": [
        {
          "name": "stdout",
          "output_type": "stream",
          "text": [
            "Enter your card number 1234567890123456\n",
            " Enter your Password 1234\n"
          ]
        },
        {
          "output_type": "error",
          "ename": "TypeError",
          "evalue": "'bool' object is not callable",
          "traceback": [
            "\u001b[0;31m---------------------------------------------------------------------------\u001b[0m",
            "\u001b[0;31mTypeError\u001b[0m                                 Traceback (most recent call last)",
            "\u001b[0;32m<ipython-input-58-fee745fdea3c>\u001b[0m in \u001b[0;36m<cell line: 3>\u001b[0;34m()\u001b[0m\n\u001b[1;32m      1\u001b[0m \u001b[0minput\u001b[0m\u001b[0;34m(\u001b[0m\u001b[0;34m\"Enter your card number \"\u001b[0m\u001b[0;34m)\u001b[0m\u001b[0;34m\u001b[0m\u001b[0;34m\u001b[0m\u001b[0m\n\u001b[1;32m      2\u001b[0m \u001b[0minput\u001b[0m\u001b[0;34m(\u001b[0m\u001b[0;34m\" Enter your Password \"\u001b[0m\u001b[0;34m)\u001b[0m\u001b[0;34m\u001b[0m\u001b[0;34m\u001b[0m\u001b[0m\n\u001b[0;32m----> 3\u001b[0;31m \u001b[0;32mif\u001b[0m \u001b[0mauthenticate_user\u001b[0m\u001b[0;34m(\u001b[0m\u001b[0mcard_pin\u001b[0m\u001b[0;34m,\u001b[0m \u001b[0mcard_no\u001b[0m\u001b[0;34m)\u001b[0m\u001b[0;34m:\u001b[0m\u001b[0;34m\u001b[0m\u001b[0;34m\u001b[0m\u001b[0m\n\u001b[0m\u001b[1;32m      4\u001b[0m     \u001b[0mprint\u001b[0m\u001b[0;34m(\u001b[0m\u001b[0;34m\"Authentication successful\"\u001b[0m\u001b[0;34m)\u001b[0m\u001b[0;34m\u001b[0m\u001b[0;34m\u001b[0m\u001b[0m\n\u001b[1;32m      5\u001b[0m \u001b[0;34m\u001b[0m\u001b[0m\n",
            "\u001b[0;31mTypeError\u001b[0m: 'bool' object is not callable"
          ]
        }
      ]
    },
    {
      "cell_type": "code",
      "source": [
        "input(\"Enter your card number: \")"
      ],
      "metadata": {
        "id": "y6CHt4O1Bb6R"
      },
      "execution_count": null,
      "outputs": []
    }
  ]
}